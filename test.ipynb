{
 "cells": [
  {
   "cell_type": "code",
   "execution_count": 2,
   "metadata": {},
   "outputs": [],
   "source": [
    "from PIL import Image\n",
    "import numpy as np\n",
    "import torch\n",
    "import cv2\n",
    "\n",
    "pth2 = '../KITTI3/kitti_depth/depth/data_depth_velodyne/train/2011_09_26_drive_0001_sync/proj_depth/velodyne_raw/image_02/0000000005.png'\n",
    "pth = '../dataset/KITTI/kitti_depth/depth/data_depth_velodyne/train/2011_09_26_drive_0001_sync/proj_depth/velodyne_raw/image_02/0000000005.png'\n",
    "pth_gt = '../dataset/KITTI/kitti_depth/depth/data_depth_annotated/train/2011_09_26_drive_0001_sync/proj_depth/groundtruth/image_02/0000000005.png'\n",
    "pth_official = '../dataset/KITTI/kitti_depth/depth/data_depth_velodyne/train/2011_09_26_drive_0001_sync/proj_depth/velodyne_raw/image_02/0000000005.png'\n",
    "rgb_o = '../dataset/KITTIdata_depth_selection/test_depth_prediction_anonymous/image/0000000001.png'\n"
   ]
  },
  {
   "cell_type": "code",
   "execution_count": 3,
   "metadata": {},
   "outputs": [],
   "source": [
    "img_o = np.asarray(Image.open(pth_official))\n",
    "img_2 = np.asarray(Image.open(pth2))\n",
    "img_gt = np.asarray(Image.open(pth_gt))\n",
    "rgb = np.asarray(Image.open(rgb_o))"
   ]
  },
  {
   "cell_type": "code",
   "execution_count": 3,
   "metadata": {},
   "outputs": [],
   "source": [
    "img_o = cv2.imread(pth_official, cv2.IMREAD_GRAYSCALE)\n",
    "img_2 = cv2.imread(pth2)\n",
    "img_gt = cv2.imread(pth_gt)\n"
   ]
  },
  {
   "cell_type": "code",
   "execution_count": 5,
   "metadata": {},
   "outputs": [
    {
     "name": "stdout",
     "output_type": "stream",
     "text": [
      "(375, 1242)\n",
      "(320, 1216)\n",
      "(375, 1242)\n",
      "(352, 1216, 3)\n"
     ]
    }
   ],
   "source": [
    "print(img_o.shape)\n",
    "print(img_2.shape)\n",
    "print(img_gt.shape)\n",
    "print(rgb.shape)"
   ]
  },
  {
   "cell_type": "code",
   "execution_count": 6,
   "metadata": {},
   "outputs": [],
   "source": [
    "# img_2 = cv2.imread(pth2, cv2.IMREAD_GRAYSCALE)\n",
    "new_size = (1242, 375)\n",
    "resized_img = cv2.resize(img_2, new_size)"
   ]
  },
  {
   "cell_type": "code",
   "execution_count": 7,
   "metadata": {},
   "outputs": [
    {
     "name": "stdout",
     "output_type": "stream",
     "text": [
      "(375, 1242)\n"
     ]
    }
   ],
   "source": [
    "print(resized_img.shape)"
   ]
  },
  {
   "cell_type": "code",
   "execution_count": 1,
   "metadata": {},
   "outputs": [
    {
     "ename": "NameError",
     "evalue": "name 'cv2' is not defined",
     "output_type": "error",
     "traceback": [
      "\u001b[0;31m---------------------------------------------------------------------------\u001b[0m",
      "\u001b[0;31mNameError\u001b[0m                                 Traceback (most recent call last)",
      "Cell \u001b[0;32mIn[1], line 1\u001b[0m\n\u001b[0;32m----> 1\u001b[0m imgg \u001b[38;5;241m=\u001b[39m \u001b[43mcv2\u001b[49m\u001b[38;5;241m.\u001b[39mimread(pth2, cv2\u001b[38;5;241m.\u001b[39mIMREAD_UNCHANGED)\n\u001b[1;32m      2\u001b[0m new_size \u001b[38;5;241m=\u001b[39m (\u001b[38;5;241m1242\u001b[39m, \u001b[38;5;241m375\u001b[39m)\n\u001b[1;32m      3\u001b[0m imgg2 \u001b[38;5;241m=\u001b[39m cv2\u001b[38;5;241m.\u001b[39mresize(imgg,new_size)\n",
      "\u001b[0;31mNameError\u001b[0m: name 'cv2' is not defined"
     ]
    }
   ],
   "source": [
    "imgg = cv2.imread(pth2, cv2.IMREAD_UNCHANGED)\n",
    "new_size = (1242, 375)\n",
    "imgg2 = cv2.resize(imgg,new_size)\n",
    "cv2.imshow(\"1\", imgg)\n",
    "cv2.imshow(\"2\", imgg2)\n",
    "cv2.waitKey(5000)\n",
    "cv2.destroyAllWindows()"
   ]
  },
  {
   "cell_type": "code",
   "execution_count": null,
   "metadata": {},
   "outputs": [],
   "source": [
    "from scipy.sparse import csr_matrix\n",
    "spm = csr_matrix(img_gt)\n",
    "value = spm.data\n",
    "for i in value:\n",
    "    if i>1:\n",
    "        print(i)"
   ]
  },
  {
   "cell_type": "code",
   "execution_count": 34,
   "metadata": {},
   "outputs": [],
   "source": []
  },
  {
   "cell_type": "code",
   "execution_count": 1,
   "metadata": {},
   "outputs": [
    {
     "name": "stdout",
     "output_type": "stream",
     "text": [
      "0\n",
      "1\n",
      "2\n",
      "3\n",
      "4\n",
      "5\n"
     ]
    }
   ],
   "source": [
    "for i in range(0,6):\n",
    "    print(i)"
   ]
  },
  {
   "cell_type": "code",
   "execution_count": 7,
   "metadata": {},
   "outputs": [
    {
     "ename": "IndexError",
     "evalue": "list index out of range",
     "output_type": "error",
     "traceback": [
      "\u001b[0;31m---------------------------------------------------------------------------\u001b[0m",
      "\u001b[0;31mIndexError\u001b[0m                                Traceback (most recent call last)",
      "Cell \u001b[0;32mIn[7], line 2\u001b[0m\n\u001b[1;32m      1\u001b[0m user_state \u001b[38;5;241m=\u001b[39m [\u001b[38;5;241m300\u001b[39m]\u001b[38;5;241m*\u001b[39m\u001b[38;5;241m50\u001b[39m\n\u001b[0;32m----> 2\u001b[0m \u001b[38;5;28mprint\u001b[39m(\u001b[43muser_state\u001b[49m\u001b[43m[\u001b[49m\u001b[38;5;241;43m50\u001b[39;49m\u001b[43m]\u001b[49m)\n",
      "\u001b[0;31mIndexError\u001b[0m: list index out of range"
     ]
    }
   ],
   "source": [
    "user_state = [300]*50\n",
    "print(user_state[50])"
   ]
  },
  {
   "cell_type": "code",
   "execution_count": 9,
   "metadata": {},
   "outputs": [],
   "source": [
    "import cv2\n",
    "import numpy as np\n",
    "# from scipy.sparse import csr_matrix\n",
    "\n",
    "pth_o = '../image/depth_o.png'\n",
    "pth_co = '../image/depth_co.png'\n",
    "pth_gt = '../image/depth_gt.png'\n",
    "img_o = cv2.imread(pth_o, cv2.IMREAD_UNCHANGED)\n",
    "img_co = cv2.imread(pth_co, cv2.IMREAD_UNCHANGED)\n",
    "img_gt = cv2.imread(pth_gt, cv2.IMREAD_UNCHANGED)"
   ]
  },
  {
   "cell_type": "code",
   "execution_count": 10,
   "metadata": {},
   "outputs": [],
   "source": [
    "o = np.array(img_o, dtype=int)\n",
    "co = np.array(img_co, dtype = int)\n",
    "gt = np.array(img_gt, dtype = int)\n",
    "co[co <1000] = 0"
   ]
  },
  {
   "cell_type": "code",
   "execution_count": 11,
   "metadata": {},
   "outputs": [
    {
     "name": "stdout",
     "output_type": "stream",
     "text": [
      "19154\n",
      "317634\n",
      "90839\n"
     ]
    }
   ],
   "source": [
    "cnt_o = np.count_nonzero(o)\n",
    "cnt_co = np.count_nonzero(co)\n",
    "cnt_gt = np.count_nonzero(gt)\n",
    "print(cnt_o)\n",
    "print(cnt_co)\n",
    "print(cnt_gt)"
   ]
  },
  {
   "cell_type": "code",
   "execution_count": 12,
   "metadata": {},
   "outputs": [
    {
     "name": "stdout",
     "output_type": "stream",
     "text": [
      "1352\n",
      "1000\n",
      "1365\n"
     ]
    }
   ],
   "source": [
    "o2 = o[o !=0]\n",
    "co2 = co[co !=0]\n",
    "gt2 = gt[gt !=0]\n",
    "print(np.min(o2))\n",
    "print(np.min(co2))\n",
    "print(np.min(gt2))"
   ]
  },
  {
   "cell_type": "code",
   "execution_count": 13,
   "metadata": {},
   "outputs": [],
   "source": [
    "cnt_co = np.count_nonzero(co)\n",
    "index_co = np.nonzero(co)\n",
    "# print(index_co)\n",
    "out_cnt = int(cnt_co * 0.95)\n",
    "\n",
    "random_indices = np.random.choice(cnt_co, out_cnt, replace = False)\n",
    "co[index_co[0][random_indices],index_co[1][random_indices]] =0"
   ]
  },
  {
   "cell_type": "code",
   "execution_count": 15,
   "metadata": {},
   "outputs": [],
   "source": [
    "show_Co = cv2.normalize(co, None, 0, 255, cv2.NORM_MINMAX).astype(np.uint8)\n",
    "cv2.imshow(\"random out\",show_Co)\n",
    "cv2.waitKey(5000)\n",
    "cv2.destroyAllWindows()"
   ]
  }
 ],
 "metadata": {
  "kernelspec": {
   "display_name": "penet",
   "language": "python",
   "name": "python3"
  },
  "language_info": {
   "codemirror_mode": {
    "name": "ipython",
    "version": 3
   },
   "file_extension": ".py",
   "mimetype": "text/x-python",
   "name": "python",
   "nbconvert_exporter": "python",
   "pygments_lexer": "ipython3",
   "version": "3.10.14"
  }
 },
 "nbformat": 4,
 "nbformat_minor": 2
}
