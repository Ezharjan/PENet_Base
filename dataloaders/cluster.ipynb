{
 "cells": [
  {
   "cell_type": "code",
   "execution_count": 3,
   "metadata": {},
   "outputs": [],
   "source": [
    "import numpy as np\n",
    "import matplotlib.pyplot as plt\n",
    "from sklearn.cluster import KMeans\n",
    "from sklearn.decomposition import PCA\n",
    "from skimage.io import imread\n",
    "from skimage.color import rgb2gray\n",
    "import os\n",
    "import cv2"
   ]
  },
  {
   "cell_type": "code",
   "execution_count": 8,
   "metadata": {},
   "outputs": [],
   "source": [
    "def calculate_feature_from_file(file_path):\n",
    "    features = []\n",
    "    for path in file_path:\n",
    "        image = imread(path)  #depth map\n",
    "        image_flat = image.flatten()\n",
    "        mean_val = np.mean(image_flat)\n",
    "        std_val = np.std(image_flat)\n",
    "        min_depth = np.min(image_flat)\n",
    "        max_depth = np.max(image_flat)\n",
    "        median_depth = np.median(image_flat)\n",
    "        q1 = np.percentile(image_flat, 25)\n",
    "        q3 = np.percentile(image_flat, 75)\n",
    "        iqr = q3 - q1\n",
    "        gradient_x = cv2.Sobel(image, cv2.CV_64F, 1, 0, ksize = 3)\n",
    "        gradient_y = cv2.Sobel(image, cv2.CV_64F, 0, 1, ksize = 3)\n",
    "        depth_gradient = np.sqrt(gradient_x**2 + gradient_y**2)\n",
    "        mean_gradient = np.mean(depth_gradient)\n",
    "        std_gradient = np.std(depth_gradient)\n",
    "        features.append([mean_val, std_val, min_depth, max_depth, median_depth, iqr, mean_gradient, std_gradient])\n",
    "    if len(features) > 0:\n",
    "        return np.mean(features, axis = 0)\n",
    "    else:\n",
    "        return None"
   ]
  },
  {
   "cell_type": "code",
   "execution_count": 5,
   "metadata": {},
   "outputs": [],
   "source": [
    "all_features = []\n",
    "file_indices = []"
   ]
  },
  {
   "cell_type": "code",
   "execution_count": 9,
   "metadata": {},
   "outputs": [
    {
     "name": "stdout",
     "output_type": "stream",
     "text": [
      "Reading file part_1\n",
      "Reading file part_2\n",
      "Reading file part_3\n",
      "Reading file part_4\n",
      "Reading file part_5\n",
      "Reading file part_6\n",
      "Reading file part_7\n",
      "Reading file part_8\n",
      "Reading file part_9\n",
      "Reading file part_10\n",
      "Reading file part_11\n",
      "Reading file part_12\n",
      "Reading file part_13\n",
      "Reading file part_14\n",
      "Reading file part_15\n",
      "Reading file part_16\n",
      "Reading file part_17\n",
      "Reading file part_18\n",
      "Reading file part_19\n",
      "Reading file part_20\n",
      "Reading file part_21\n",
      "Reading file part_22\n",
      "Reading file part_23\n",
      "Reading file part_24\n",
      "Reading file part_25\n",
      "Reading file part_26\n",
      "Reading file part_27\n",
      "Reading file part_28\n",
      "Reading file part_29\n",
      "Reading file part_30\n",
      "Reading file part_31\n",
      "Reading file part_32\n",
      "Reading file part_33\n",
      "Reading file part_34\n",
      "Reading file part_35\n",
      "Reading file part_36\n",
      "Reading file part_37\n",
      "Reading file part_38\n",
      "Reading file part_39\n",
      "Reading file part_40\n",
      "Reading file part_41\n",
      "Reading file part_42\n",
      "Reading file part_43\n",
      "Reading file part_44\n",
      "Reading file part_45\n",
      "Reading file part_46\n",
      "Reading file part_47\n",
      "Reading file part_48\n",
      "Reading file part_49\n",
      "Reading file part_50\n",
      "Reading file part_51\n",
      "Reading file part_52\n",
      "Reading file part_53\n",
      "Reading file part_54\n",
      "Reading file part_55\n",
      "Reading file part_56\n",
      "Reading file part_57\n",
      "Reading file part_58\n",
      "Reading file part_59\n",
      "Reading file part_60\n",
      "Reading file part_61\n",
      "Reading file part_62\n",
      "Reading file part_63\n",
      "Reading file part_64\n",
      "Reading file part_65\n",
      "Reading file part_66\n",
      "Reading file part_67\n",
      "Reading file part_68\n",
      "Reading file part_69\n",
      "Reading file part_70\n",
      "Reading file part_71\n",
      "Reading file part_72\n",
      "Reading file part_73\n",
      "Reading file part_74\n",
      "Reading file part_75\n",
      "Reading file part_76\n",
      "Reading file part_77\n",
      "Reading file part_78\n",
      "Reading file part_79\n",
      "Reading file part_80\n",
      "Reading file part_81\n",
      "Reading file part_82\n",
      "Reading file part_83\n",
      "Reading file part_84\n",
      "Reading file part_85\n",
      "Reading file part_86\n",
      "Reading file part_87\n",
      "Reading file part_88\n",
      "Reading file part_89\n",
      "Reading file part_90\n",
      "Reading file part_91\n",
      "Reading file part_92\n",
      "Reading file part_93\n",
      "Reading file part_94\n",
      "Reading file part_95\n",
      "Reading file part_96\n",
      "Reading file part_97\n",
      "Reading file part_98\n",
      "Reading file part_99\n",
      "Reading file part_100\n"
     ]
    }
   ],
   "source": [
    "for i in range(1,101):\n",
    "    with open(f\"../../parts/selected_part_{i}.txt\",\"r\")as file:\n",
    "        print(f\"Reading file part_{i}\")\n",
    "        paths_with_titles= []\n",
    "        file_names = []\n",
    "        for line in file:\n",
    "            line = line.strip()\n",
    "            if line.endswith(':'):\n",
    "                current_title = line[0:-1]\n",
    "            elif line:\n",
    "                paths_with_titles.append((current_title, line))\n",
    "    \n",
    "    for title, path in paths_with_titles:\n",
    "        if title == 'd':\n",
    "            file_names.append(path)\n",
    "    feature = calculate_feature_from_file(file_names)\n",
    "    if feature is not None:\n",
    "        all_features.append(feature)\n",
    "        file_indices.append(i)"
   ]
  },
  {
   "cell_type": "code",
   "execution_count": 15,
   "metadata": {},
   "outputs": [
    {
     "data": {
      "text/plain": [
       "(8,)"
      ]
     },
     "execution_count": 15,
     "metadata": {},
     "output_type": "execute_result"
    }
   ],
   "source": [
    "feature_array = np.array(all_features)\n",
    "feature_array[0].shape"
   ]
  },
  {
   "cell_type": "code",
   "execution_count": 16,
   "metadata": {},
   "outputs": [],
   "source": [
    "with open('100data_features.txt', 'w') as f:\n",
    "    f.write(f\"index\\tmean_val\\tstd_val\\tmin_depth\\tmax_depth\\tiqr\\tmean_gradient\\tstd_gradient\\n\")\n",
    "    for idx, label in enumerate(feature_array):\n",
    "        f.write(f\"{idx}\\t{label[0]}\\t{label[1]}\\t{label[2]}\\t{label[3]}\\t{label[5]}\\t{label[6]}\\t{label[7]}\\n\")"
   ]
  },
  {
   "cell_type": "code",
   "execution_count": 8,
   "metadata": {},
   "outputs": [],
   "source": [
    "# convert feature list into a numpy array\n",
    "feature_array = np.array(all_features) # reshape for clusting\n",
    "# perform clustering\n",
    "kmeans = KMeans(n_clusters=5).fit(feature_array)\n",
    "labels = kmeans.labels_\n",
    "# pca for visualization\n",
    "pca = PCA(n_components=2)\n",
    "reduced_features = pca.fit_transform(feature_array)"
   ]
  },
  {
   "cell_type": "code",
   "execution_count": 19,
   "metadata": {},
   "outputs": [
    {
     "data": {
      "image/png": "[encoded data removed]",
      "text/plain": [
       "<Figure size 500x500 with 1 Axes>"
      ]
     },
     "metadata": {},
     "output_type": "display_data"
    }
   ],
   "source": [
    "# visualize\n",
    "plt.figure(figsize=(5,5))\n",
    "for idx, label in enumerate(labels):\n",
    "    plt.scatter(reduced_features[idx, 0], reduced_features[idx, 1], color='skyblue', marker= 'o')\n",
    "    plt.text(reduced_features[idx, 0], reduced_features[idx, 1], file_indices[idx])\n",
    "\n",
    "plt.savefig('100data_clustering.png')\n",
    "plt.show()"
   ]
  },
  {
   "cell_type": "code",
   "execution_count": 20,
   "metadata": {},
   "outputs": [],
   "source": [
    "with open('100data_clustering.txt', 'w') as f:\n",
    "    for idx, label in enumerate(labels):\n",
    "        f.write(f\"{file_indices[idx]},{reduced_features[idx, 0]},{reduced_features[idx, 1]}\\n\")"
   ]
  },
  {
   "cell_type": "code",
   "execution_count": 34,
   "metadata": {},
   "outputs": [
    {
     "name": "stdout",
     "output_type": "stream",
     "text": [
      "Cluster 0:\n",
      "[6, 11, 12, 16, 18, 24, 30, 31, 44, 47, 48, 50, 51, 52, 56, 63, 64, 69, 71, 73, 74, 77, 78, 79, 81, 82, 83, 84, 86, 89, 91, 92, 94, 95, 96, 97, 98, 100]\n",
      "Cluster 1:\n",
      "[21, 22, 23, 36, 37, 38, 39, 40, 41, 42]\n",
      "Cluster 2:\n",
      "[1, 2, 3, 4, 8, 9, 10, 14, 15, 20, 26, 27, 28, 32, 33, 54, 55]\n",
      "Cluster 3:\n",
      "[17, 25, 34, 35, 43, 45, 46, 57, 58, 62, 68, 75, 76, 80, 85]\n",
      "Cluster 4:\n",
      "[5, 7, 13, 19, 29, 49, 53, 59, 60, 61, 65, 66, 67, 70, 72, 87, 88, 90, 93, 99]\n"
     ]
    }
   ],
   "source": [
    "# print members of each cluster\n",
    "for cluster in range(5):\n",
    "    print(f\"Cluster {cluster}:\")\n",
    "    member = []\n",
    "    for idx, label in enumerate(labels):\n",
    "        if label == cluster:\n",
    "            member.append(file_indices[idx])\n",
    "    print(member)"
   ]
  }
 ],
 "metadata": {
  "kernelspec": {
   "display_name": "penet",
   "language": "python",
   "name": "python3"
  },
  "language_info": {
   "codemirror_mode": {
    "name": "ipython",
    "version": 3
   },
   "file_extension": ".py",
   "mimetype": "text/x-python",
   "name": "python",
   "nbconvert_exporter": "python",
   "pygments_lexer": "ipython3",
   "version": "3.10.14"
  }
 },
 "nbformat": 4,
 "nbformat_minor": 2
}
