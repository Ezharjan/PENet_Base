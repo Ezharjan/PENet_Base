{
 "cells": [
  {
   "cell_type": "code",
   "execution_count": 3,
   "metadata": {},
   "outputs": [],
   "source": [
    "import os\n",
    "import os.path\n",
    "import glob\n",
    "import fnmatch  # pattern matching\n",
    "import numpy as np\n",
    "from numpy import linalg as LA\n",
    "from random import choice\n",
    "from PIL import Image\n",
    "import torch\n",
    "import torch.utils.data as data\n",
    "import cv2\n",
    "import random\n",
    "import math"
   ]
  },
  {
   "cell_type": "code",
   "execution_count": 4,
   "metadata": {},
   "outputs": [],
   "source": [
    "def load_calib():\n",
    "    \"\"\"\n",
    "    Temporarily hardcoding the calibration matrix using calib file from 2011_09_26\n",
    "    \"\"\"\n",
    "    calib = open(\"./calib_cam_to_cam.txt\", \"r\")\n",
    "    lines = calib.readlines()\n",
    "    P_rect_line = lines[25]\n",
    "\n",
    "    Proj_str = P_rect_line.split(\":\")[1].split(\" \")[1:]\n",
    "    Proj = np.reshape(np.array([float(p) for p in Proj_str]),\n",
    "                      (3, 4)).astype('float32')\n",
    "    K = Proj[:3, :3]  # camera matrix\n",
    "\n",
    "    # note: we will take the center crop of the images during augmentation\n",
    "    # that changes the optical centers, but not focal lengths\n",
    "    # K[0, 2] = K[0, 2] - 13  # from width = 1242 to 1216, with a 13-pixel cut on both sidesgt\n",
    "    # K[1, 2] = K[1, 2] - 11.5  # from width = 375 to 352, with a 11.5-pixel cut on both sides\n",
    "    K[0, 2] = K[0, 2] - 13;\n",
    "    K[1, 2] = K[1, 2] - 11.5;\n",
    "    return K"
   ]
  },
  {
   "cell_type": "code",
   "execution_count": 5,
   "metadata": {},
   "outputs": [
    {
     "name": "stdout",
     "output_type": "stream",
     "text": [
      "[[721.5377   0.     596.5593]\n",
      " [  0.     721.5377 161.354 ]\n",
      " [  0.       0.       1.    ]]\n"
     ]
    }
   ],
   "source": [
    "K = load_calib()\n",
    "print(K)"
   ]
  },
  {
   "cell_type": "code",
   "execution_count": 6,
   "metadata": {},
   "outputs": [
    {
     "name": "stdout",
     "output_type": "stream",
     "text": [
      "(3, 3)\n"
     ]
    }
   ],
   "source": [
    "print(K.shape)"
   ]
  }
 ],
 "metadata": {
  "kernelspec": {
   "display_name": "penet",
   "language": "python",
   "name": "python3"
  },
  "language_info": {
   "codemirror_mode": {
    "name": "ipython",
    "version": 3
   },
   "file_extension": ".py",
   "mimetype": "text/x-python",
   "name": "python",
   "nbconvert_exporter": "python",
   "pygments_lexer": "ipython3",
   "version": "3.10.14"
  }
 },
 "nbformat": 4,
 "nbformat_minor": 2
}
